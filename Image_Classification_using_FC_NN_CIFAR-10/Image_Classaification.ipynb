{
 "cells": [
  {
   "cell_type": "markdown",
   "metadata": {},
   "source": [
    "# Specify the directory path where your CSV files are located\n",
    "directory_path = '/Image_Classification_CIFAR-10/Dataset/'\n",
    "\n",
    "# Get a list of all CSV files in the directory\n",
    "csv_files = glob.glob(directory_path + '*.csv')\n",
    "\n",
    "\n",
    "for csv_file in csv_files:\n",
    "    # Read the CSV file and append its DataFrame to the list\n",
    "    df = pd.read_csv(csv_file)\n",
    "    dataframes.append(df)\n",
    "    \n",
    "for file in filepath\n",
    "print('0')"
   ]
  },
  {
   "cell_type": "code",
   "execution_count": null,
   "metadata": {},
   "outputs": [],
   "source": [
    "#bashmohandes data!!!!!!!!\n",
    "import pickle\n",
    "import numpy as np\n",
    "\n",
    "def load_batch(file):\n",
    "    with open(file, 'rb') as fo:\n",
    "        dict = pickle.load(fo, encoding='bytes')\n",
    "    return dict[b'data'], dict[b'labels']\n",
    "\n",
    "def load_cifar10_data(data_dir):\n",
    "    \"\"\"\n",
    "    Load the CIFAR-10 dataset from disk and perform preprocessing to prepare\n",
    "    Args:\n",
    "    data_dir: the directory of the CIFAR-10 dataset\n",
    "    return:\n",
    "    train_data: 50000 images of shape 32*32*3 \n",
    "    train_labels: 50000 labels\n",
    "    test_data: 10000 images of shape 32*32*3\n",
    "    test_labels: 10000 labels\n",
    "    \"\"\"\n",
    "    # Load traing data\n",
    "    train_data = []\n",
    "    train_labels = []\n",
    "    for i in range(1, 6):\n",
    "        data, labels = load_batch(f\"{data_dir}/data_batch_{i}\")\n",
    "        train_data.append(data)\n",
    "        train_labels.append(labels)\n",
    "    train_data = np.concatenate(train_data)\n",
    "    train_labels = np.concatenate(train_labels)\n",
    "    \n",
    "    test_data, test_labels = load_batch(f\"{data_dir}/test_batch\")\n",
    "    return (train_data, train_labels), (test_data, test_labels)\n",
    "\n",
    "# Load the CIFAR-10 data\n",
    "(train_images, train_labels), (test_images, test_labels) = load_cifar10_data(\"cifar-10-batches-py\")\n",
    "\n",
    "# Reshape the data\n",
    "train_images = train_images.reshape((50000, 32, 32, 3)).astype('float32') / 255\n",
    "test_images = test_images.reshape((10000, 32, 32, 3)).astype('float32') / 255\n",
    "\n",
    "train_labels = np.array(train_labels)\n",
    "test_labels = np.array(test_labels)\n",
    "\n",
    "\n",
    "# visualization \n",
    "import matplotlib.pyplot as plt\n",
    "import numpy as np\n",
    "\n",
    "# CIFAR-10 class names\n",
    "class_names = ['airplane', 'automobile', 'bird', 'cat', 'deer', 'dog', 'frog', 'horse', 'ship', 'truck']\n",
    "\n",
    "# Visualize the first 10 images from the training set\n",
    "plt.figure(figsize=(10, 10))\n",
    "for i in range(10):\n",
    "    plt.subplot(5, 5, i + 1)\n",
    "    plt.xticks([])\n",
    "    plt.yticks([])\n",
    "    plt.grid(False)\n",
    "    plt.imshow(train_images[i])\n",
    "    plt.xlabel(class_names[train_labels[i]])\n",
    "plt.show()\n",
    "\n",
    "\n",
    "\n",
    "# Flatten the images\n",
    "train_images_flat = train_images.reshape((50000,3072))\n",
    "test_images_flat = test_images.reshape((10000, 32 * 32 * 3))"
   ]
  },
  {
   "cell_type": "code",
   "execution_count": 87,
   "metadata": {},
   "outputs": [],
   "source": [
    "import pandas as pd \n",
    "import numpy as np\n",
    "import matplotlib.pyplot as plt \n",
    "import seaborn as sns \n",
    "import tensorflow as tf\n",
    "\n",
    "import glob\n",
    "import pickle\n",
    "\n",
    "from warnings import filterwarnings \n",
    "filterwarnings(\"ignore\") "
   ]
  },
  {
   "cell_type": "code",
   "execution_count": 88,
   "metadata": {},
   "outputs": [],
   "source": [
    "def load_batch(batch_file_path): \n",
    "    \"\"\"\" Args: batch_file_path\n",
    "        Return: \n",
    "            data:ndarray of size 1000x3072\n",
    "            label:narray of size 10000 \"\"\"\n",
    "    \n",
    "    with open (batch_file_path , 'rb') as file: \n",
    "        dict = pickle.load(file, encoding = 'bytes')\n",
    "        return dict[b'data'] , dict[b'labels']\n"
   ]
  },
  {
   "cell_type": "markdown",
   "metadata": {},
   "source": [
    "dataset_files = glob.glob( 'Dataset/' + 'data_batch_*')\n",
    "all_data = []\n",
    "all_labels = []\n",
    "\n",
    "\n",
    "for index, file in enumerate(dataset_files):\n",
    "    data,labels = load_batch(file)\n",
    "    data = np.array(data)\n",
    "    labels = np.array(labels)\n",
    "    \n",
    "    if index == 0 : \n",
    "        all_data = data\n",
    "        all_labels = labels\n",
    "    else: \n",
    "        all_data = np.vstack((all_data , data))\n",
    "        all_labels = np.vstack((all_labels , data)) \n",
    "    "
   ]
  },
  {
   "cell_type": "code",
   "execution_count": 89,
   "metadata": {},
   "outputs": [
    {
     "name": "stdout",
     "output_type": "stream",
     "text": [
      "(50000, 3072)\n",
      "(50000,)\n"
     ]
    }
   ],
   "source": [
    "dataset_files = glob.glob( 'Dataset/' + 'data_batch_*')\n",
    "train_data = []\n",
    "train_labels = []\n",
    "\n",
    "\n",
    "for file in dataset_files:\n",
    "    data,labels = load_batch(file)\n",
    "    train_data.append(data)\n",
    "    train_labels.append(labels) \n",
    "\n",
    "train_data= np.concatenate(train_data)  \n",
    "train_labels= np.concatenate(train_labels)  \n",
    "\n",
    "print(train_data.shape)\n",
    "print(train_labels.shape)\n"
   ]
  },
  {
   "cell_type": "code",
   "execution_count": 92,
   "metadata": {},
   "outputs": [
    {
     "name": "stdout",
     "output_type": "stream",
     "text": [
      "(10000, 3072)\n",
      "(10000,)\n"
     ]
    }
   ],
   "source": [
    "test_batch_files = glob.glob( 'Dataset/' + 'test_batch')\n",
    "test_data = []\n",
    "test_labels = []\n",
    "\n",
    "\n",
    "for file in test_batch_files:\n",
    "    data,labels = load_batch(file)\n",
    "    test_data.append(data)\n",
    "    test_labels.append(labels) \n",
    "\n",
    "test_data= np.concatenate(test_data)  \n",
    "test_labels= np.concatenate(test_labels)  \n",
    "\n",
    "print(test_data.shape)\n",
    "print(test_labels.shape)\n"
   ]
  },
  {
   "cell_type": "code",
   "execution_count": 90,
   "metadata": {},
   "outputs": [
    {
     "data": {
      "image/png": "[encoded data removed]",
      "text/plain": [
       "<Figure size 1008x626.4 with 1 Axes>"
      ]
     },
     "metadata": {},
     "output_type": "display_data"
    }
   ],
   "source": [
    "#plot the first image in the dataset for exploration, but images are flattened so we must reshape b4 plotting \n",
    "\n",
    "train_data = train_data.reshape(50000,32,32,3)\n",
    "\n",
    "# Display the first image in the dataset\n",
    "plt.imshow(all_data[0, :, :, :])\n",
    "plt.title(\"First Image in Dataset\")\n",
    "plt.show()"
   ]
  },
  {
   "cell_type": "code",
   "execution_count": 64,
   "metadata": {},
   "outputs": [
    {
     "ename": "SyntaxError",
     "evalue": "invalid syntax (<ipython-input-64-57f05ac6a715>, line 1)",
     "output_type": "error",
     "traceback": [
      "\u001b[1;36m  File \u001b[1;32m\"<ipython-input-64-57f05ac6a715>\"\u001b[1;36m, line \u001b[1;32m1\u001b[0m\n\u001b[1;33m    all_data = all_data.astype(float 32)\u001b[0m\n\u001b[1;37m                                     ^\u001b[0m\n\u001b[1;31mSyntaxError\u001b[0m\u001b[1;31m:\u001b[0m invalid syntax\n"
     ]
    }
   ],
   "source": [
    "all_data = all_data.astype(float 32)"
   ]
  }
 ],
 "metadata": {
  "kernelspec": {
   "display_name": "Python 3",
   "language": "python",
   "name": "python3"
  },
  "language_info": {
   "codemirror_mode": {
    "name": "ipython",
    "version": 3
   },
   "file_extension": ".py",
   "mimetype": "text/x-python",
   "name": "python",
   "nbconvert_exporter": "python",
   "pygments_lexer": "ipython3",
   "version": "3.8.5"
  }
 },
 "nbformat": 4,
 "nbformat_minor": 4
}
